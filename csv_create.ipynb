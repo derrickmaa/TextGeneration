{
 "cells": [
  {
   "cell_type": "code",
   "execution_count": null,
   "metadata": {},
   "outputs": [],
   "source": [
    "'''制作csv(不包含labels)'''\n",
    "import csv\n",
    "\n",
    "\n",
    "with open('C:/Users/聡/Desktop/tryit11.txt', 'r', encoding='utf-8') as r:\n",
    "    lines=r.readlines()\n",
    "with open('C:/Users/聡/Desktop/tryit.csv','w', encoding='utf-8', newline='') as w:\n",
    "    writer = csv.writer(w)\n",
    "    csv_head = [\"ID\",\"title\",\"subtitle\",\"paragraph\",\"text\"]\n",
    "    writer.writerow(csv_head)    \n",
    "    n = 1\n",
    "    para = 1\n",
    "    for i in range(len(lines)):\n",
    "        data =[]\n",
    "        if '****' in lines[i]:\n",
    "            temtitle = lines[i][4:-1]\n",
    "            temsubtitle = 'NO'\n",
    "            #print(temtitle)\n",
    "            para = 1\n",
    "        elif '@@' in lines[i]:\n",
    "            temsubtitle = lines[i][2:-1]\n",
    "        else:\n",
    "            data = [n, temtitle, temsubtitle, para, lines[i][:-1]]\n",
    "            para += 1\n",
    "            n += 1\n",
    "            writer.writerow(data)\n",
    "\n",
    "        \n",
    "        "
   ]
  },
  {
   "cell_type": "code",
   "execution_count": null,
   "metadata": {},
   "outputs": [],
   "source": [
    "'''读取csv'''\n",
    "import csv\n",
    "with open('C:/Users/derri/Desktop/newdata/ssss.csv','r', encoding='utf-8') as f:\n",
    "    reader = csv.reader(f)\n",
    "    i = 0\n",
    "    for row in reader:\n",
    "        if i < 10:\n",
    "            print(row)\n",
    "            i += 1\n",
    "    "
   ]
  },
  {
   "cell_type": "code",
   "execution_count": null,
   "metadata": {},
   "outputs": [],
   "source": [
    "'''读取csv'''\n",
    "import pandas as pd\n",
    "\n",
    "data = pd.read_csv('C:/Users/derri/Desktop/newdata/ssss.csv',nrows =60)\n",
    "print(data)"
   ]
  },
  {
   "cell_type": "code",
   "execution_count": null,
   "metadata": {},
   "outputs": [],
   "source": [
    "'''制作csv（包含labels）'''\n",
    "import csv\n",
    "import MeCab\n",
    "\n",
    "\n",
    "t = MeCab.Tagger()\n",
    "with open('C:/Users/derri/Desktop/newdata/cleandataold2change.txt', 'r', encoding='utf-8') as r:\n",
    "    lines=r.readlines()\n",
    "with open('C:/Users/derri/Desktop/newdata/ssss.csv', 'w', encoding='utf-8', newline='') as w:\n",
    "    writer = csv.writer(w)\n",
    "    csv_head = [\"ID\",\"title\",\"subtitle\",\"paragraph\",\"text\",\"labels\"]\n",
    "    writer.writerow(csv_head)    \n",
    "    n = 1\n",
    "    para = 1\n",
    "    for i in range(len(lines)):\n",
    "        data =[]\n",
    "        if '****' in lines[i]:\n",
    "            a = []\n",
    "            temtitle = lines[i][4:-1]\n",
    "            p = t.parseToNode(temtitle)\n",
    "            while p:\n",
    "                if '名詞' in p.feature and '数' not in p.feature:\n",
    "                    a.append(p.surface)\n",
    "                p = p.next\n",
    "            temsubtitle = 'NO'            \n",
    "            #print(temtitle)\n",
    "            para = 1\n",
    "        elif '@@' in lines[i]:\n",
    "            temsubtitle = lines[i][2:-1]\n",
    "            b = a\n",
    "            p = t.parseToNode(temsubtitle)\n",
    "            while p:\n",
    "                if '名詞' in p.feature and '数' not in p.feature:\n",
    "                    b.append(p.surface)\n",
    "                p = p.next\n",
    "        else:\n",
    "            if temsubtitle == 'NO':\n",
    "                data = [n, temtitle, temsubtitle, para, lines[i][:-1], a]\n",
    "                para += 1\n",
    "                n += 1\n",
    "                writer.writerow(data)\n",
    "            elif temsubtitle != 'NO':\n",
    "                data = [n, temtitle, temsubtitle, para, lines[i][:-1], b]\n",
    "                para += 1\n",
    "                n += 1\n",
    "                writer.writerow(data)               "
   ]
  }
 ],
 "metadata": {
  "kernelspec": {
   "display_name": "Python 3",
   "language": "python",
   "name": "python3"
  },
  "language_info": {
   "codemirror_mode": {
    "name": "ipython",
    "version": 3
   },
   "file_extension": ".py",
   "mimetype": "text/x-python",
   "name": "python",
   "nbconvert_exporter": "python",
   "pygments_lexer": "ipython3",
   "version": "3.7.4"
  }
 },
 "nbformat": 4,
 "nbformat_minor": 4
}
