{
 "cells": [
  {
   "cell_type": "code",
   "execution_count": 32,
   "metadata": {},
   "outputs": [],
   "source": [
    "'''获取修改例子（10+**+10）\n",
    "import re\n",
    "\n",
    "oldkana = ['ゐ','ゑ','ぢ','いふ','ゆふ','わう','あふ','くわう','こふ','ぐわう','ごふ','さう','ざふ','たう','ぎう','しふ','じう','じふ','ぢゅう','きやう','けう','けふ','ぎやう','げう','げふ','しやう','せう','せふ','じやう','ぢやう','ぜう','でう','でふ','しやう','てう','てふ','なう','なふ','のふ','はふ','ほふ','ばう','ばふ','ぼふ','まう','やう','えう','えふ','らう','らふ','にう','にふ','ひう','びう','りう','りふ','ねう','ひやう','へう','びやう','べう','みやう','ぬう','りやう','れう','れふ']\n",
    "newkana = ['い','え','じ','いう','いう','おう','おう','こう','こう','ごう','ごう','そう','ぞう','とう','ぎゅう','しゅう','じゅう','じゅう','じゅう','ちう','きょう','きょう','きょう','ぎょう','ぎょう','ぎょう','しょう','しょう','しょう','じょう','じょう','じょう','じょう','じょう','ちょう','ちょう','のう','のう','のう','ほう','ほう','ぼう','ぼう','ぼう','もう','よう','よう','よう','ろう','ろう','にゅう','にゅう','ひゅう','びゅう','りゅう','りゅう','にょう','ひょう','ひょう','びょう','びょう','みょう','みょう','りょう','りょう','りょう']\n",
    "with open('C:/Users/derri/Desktop/cleandataold.txt', 'r', encoding='utf-8') as r:\n",
    "    lines = r.readlines()\n",
    "with open('C:/Users/derri/Desktop/差し替え.txt', 'w', encoding='utf-8') as w:\n",
    "    for j in range(len(oldkana)):\n",
    "        ori = oldkana[j]\n",
    "        modify = newkana[j]\n",
    "        w.write(ori+'==='+modify+'\\n')\n",
    "        for i in range(len(lines)):\n",
    "            if ori in lines[i]:\n",
    "                inx = lines[i].find(ori)\n",
    "                temlen = len(ori)\n",
    "                mae = inx-10\n",
    "                usiro = inx+temlen+10\n",
    "                if mae < 0:\n",
    "                    mae = 0\n",
    "                if usiro >= len(lines[i]):\n",
    "                    usiro = -1\n",
    "                #print(lines[i][mae:usiro])\n",
    "                w.write(lines[i][mae:usiro]+'\\n')\n",
    "                new_line = re.sub(ori, modify, lines[i])\n",
    "                #print(new_line[mae:usiro])\n",
    "                w.write(new_line[mae:usiro]+'\\n')\n",
    "            else:\n",
    "                continue\n",
    "        w.write('+'*5+'\\n\\n')'''"
   ]
  },
  {
   "cell_type": "code",
   "execution_count": 34,
   "metadata": {},
   "outputs": [],
   "source": [
    "'''获取不确定可否替换的例子\n",
    "import re\n",
    "\n",
    "oldkana = ['くわ','あう','かう','はう']\n",
    "newkana = ['か','おう','こう','ほう']\n",
    "with open('C:/Users/derri/Desktop/cleandataold.txt', 'r', encoding='utf-8') as r:\n",
    "    lines = r.readlines()\n",
    "with open('C:/Users/derri/Desktop/差し替え不確定.txt', 'w', encoding='utf-8') as w:\n",
    "    for j in range(len(oldkana)):\n",
    "        ori = oldkana[j]\n",
    "        modify = newkana[j]\n",
    "        w.write(ori+'==='+modify+'\\n')\n",
    "        for i in range(len(lines)):\n",
    "            if ori in lines[i]:\n",
    "                inx = lines[i].find(ori)\n",
    "                temlen = len(ori)\n",
    "                mae = inx-10\n",
    "                usiro = inx+temlen+10\n",
    "                if mae < 0:\n",
    "                    mae = 0\n",
    "                if usiro >= len(lines[i]):\n",
    "                    usiro = -1\n",
    "                #print(lines[i][mae:usiro])\n",
    "                w.write(lines[i][mae:usiro]+'\\n')\n",
    "                new_line = re.sub(ori, modify, lines[i])\n",
    "                #print(new_line[mae:usiro])\n",
    "                w.write(new_line[mae:usiro]+'\\n')\n",
    "            else:\n",
    "                continue\n",
    "        w.write('+'*5+'\\n\\n')'''"
   ]
  },
  {
   "cell_type": "code",
   "execution_count": 5,
   "metadata": {},
   "outputs": [],
   "source": [
    "'''以上例子中 可直接替换的部分'''\n",
    "import re\n",
    "\n",
    "\n",
    "oldkana = ['ゐ','ゑ','ぢ','いふ','ゆふ','あふ','さう','たう','じう','けふ','せう','ぼふ','やう','らう','らふ','かう']\n",
    "newkana = ['い','え','じ','いう','ゆう','おう','そう','とう','じゅう','きょう','しょう','ぼう','よう','ろう','らう','こう']\n",
    "with open('C:/Users/derri/Desktop/newdata/cleandataold2.txt', 'r', encoding='utf-8') as r:\n",
    "    lines = r.readlines()\n",
    "with open('C:/Users/derri/Desktop/newdata/cleandataold2change.txt', 'w', encoding='utf-8') as w:\n",
    "    for line in lines:\n",
    "        for i in range(len(oldkana)):\n",
    "            line = re.sub(oldkana[i],newkana[i],line)\n",
    "        w.write(line)\n",
    "        "
   ]
  },
  {
   "cell_type": "code",
   "execution_count": null,
   "metadata": {},
   "outputs": [],
   "source": [
    "'''条件转换，手动\n",
    "(うがない時)なふ＝＝なう\n",
    "漢字＋まう　＝＝もう\n",
    "漢字＋はう　＝＝おう'''"
   ]
  }
 ],
 "metadata": {
  "kernelspec": {
   "display_name": "Python 3",
   "language": "python",
   "name": "python3"
  },
  "language_info": {
   "codemirror_mode": {
    "name": "ipython",
    "version": 3
   },
   "file_extension": ".py",
   "mimetype": "text/x-python",
   "name": "python",
   "nbconvert_exporter": "python",
   "pygments_lexer": "ipython3",
   "version": "3.7.4"
  }
 },
 "nbformat": 4,
 "nbformat_minor": 4
}
