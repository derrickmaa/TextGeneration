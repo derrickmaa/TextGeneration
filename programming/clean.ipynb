{
 "cells": [
  {
   "cell_type": "code",
   "execution_count": 133,
   "metadata": {},
   "outputs": [],
   "source": [
    "'''去除不是段落的部分（诗歌等，开头不是空格或者标题）'''\n",
    "with open('C:/Users/derri/Desktop/newdata/datanew.txt','r', encoding=\"utf-8\") as r:\n",
    "    lines = r.readlines()\n",
    "with open('C:/Users/derri/Desktop/newdata/datanew1.txt','w', encoding=\"utf-8\") as w:\n",
    "    for i in range(len(lines)):\n",
    "        if lines[i][0] == '　' or lines[i][0] == '*':\n",
    "            w.write(lines[i])\n",
    "        else:\n",
    "            continue"
   ]
  },
  {
   "cell_type": "code",
   "execution_count": 134,
   "metadata": {},
   "outputs": [],
   "source": [
    "'''去除一些符号'''\n",
    "import re\n",
    "\n",
    "\n",
    "with open('C:/Users/derri/Desktop/newdata/datanew1.txt','r', encoding=\"utf-8\") as r:\n",
    "    lines = r.readlines()\n",
    "with open('C:/Users/derri/Desktop/newdata/datanew2.txt','w', encoding=\"utf-8\") as w:\n",
    "    for i in lines:\n",
    "        j = re.sub(\"（.*?）\", \"\", i)\n",
    "        j = re.sub(\"／＼\", \"々々\", j)\n",
    "        j = re.sub(\"／″＼\", \"々々\", j)\n",
    "        j = re.sub(\"［.*?］\", \"\", j)\n",
    "        j = re.sub(\"○\", \"\", j)\n",
    "        j = re.sub('▲', \"\", j)\n",
    "        j = re.sub(\"〔.*?〕\",\"\", j)\n",
    "        j = re.sub(\"※\", \"\", j)\n",
    "        j = re.sub(\"ゝ\", \"々\", j)\n",
    "        w.write(j)"
   ]
  },
  {
   "cell_type": "code",
   "execution_count": 135,
   "metadata": {},
   "outputs": [],
   "source": [
    "'''去除一些符号'''\n",
    "with open('C:/Users/derri/Desktop/newdata/datanew2.txt','r', encoding=\"utf-8\") as r:\n",
    "    lines = r.readlines()\n",
    "with open('C:/Users/derri/Desktop/newdata/datanew3.txt','w', encoding=\"utf-8\") as w:\n",
    "    for i in range(len(lines)):\n",
    "        if \"×\" in lines[i] or \"◇\" in lines[i]:\n",
    "            continue\n",
    "        else:\n",
    "            w.write(lines[i])\n",
    "            \n",
    "\n",
    "        "
   ]
  },
  {
   "cell_type": "code",
   "execution_count": 136,
   "metadata": {},
   "outputs": [],
   "source": [
    "'''去除符号'''\n",
    "with open('C:/Users/derri/Desktop/newdata/datanew3.txt','r', encoding=\"utf-8\") as r:\n",
    "    lines = r.readlines()\n",
    "with open('C:/Users/derri/Desktop/newdata/datanew4.txt','w', encoding=\"utf-8\") as w:\n",
    "    for i in range(len(lines)):\n",
    "        if \"＊\" in lines[i] or \"〜〜〜\"  in lines[i] or '★' in lines[i]:\n",
    "            continue\n",
    "        else:\n",
    "            w.write(lines[i])"
   ]
  },
  {
   "cell_type": "code",
   "execution_count": 137,
   "metadata": {},
   "outputs": [],
   "source": [
    "'''去除空行'''\n",
    "with open('C:/Users/derri/Desktop/newdata/datanew4.txt','r', encoding=\"utf-8\") as r:\n",
    "    lines = r.readlines()\n",
    "with open('C:/Users/derri/Desktop/newdata/datanew5.txt','w', encoding=\"utf-8\") as w:\n",
    "    for l in lines:\n",
    "        if l.strip(\"　\") == \"\\n\":\n",
    "            continue\n",
    "        else:\n",
    "            w.write(l)"
   ]
  },
  {
   "cell_type": "code",
   "execution_count": 138,
   "metadata": {},
   "outputs": [],
   "source": [
    "'''寻找副标题'''\n",
    "with open('C:/Users/derri/Desktop/newdata/datanew5.txt','r', encoding=\"utf-8\") as r:\n",
    "    lines = r.readlines()\n",
    "with open('C:/Users/derri/Desktop/newdata/datanew6.txt','w', encoding=\"utf-8\") as w:\n",
    "    w.write(lines[0])\n",
    "    for i in range(1, len(lines)-1):\n",
    "        if lines[i][:2] == \"　　\" and lines[i+1][:2] != \"　　\" and lines[i-1][:2] != \"　　\":\n",
    "            j ='@@' + lines[i]\n",
    "            w.write(j)\n",
    "        else:\n",
    "            w.write(lines[i])"
   ]
  },
  {
   "cell_type": "code",
   "execution_count": 139,
   "metadata": {},
   "outputs": [],
   "source": [
    "'''逗号结尾的行与下一行合并'''\n",
    "with open('C:/Users/derri/Desktop/newdata/datanew6.txt','r', encoding=\"utf-8\") as r:\n",
    "    lines = r.readlines()\n",
    "with open('C:/Users/derri/Desktop/newdata/datanew7.txt','w', encoding=\"utf-8\") as w:\n",
    "    for i in range(len(lines)):\n",
    "        if '*' in lines[i] or '@'  in lines[i]:\n",
    "            w.write(lines[i])\n",
    "        elif '、'in lines[i][-2]:# and '*' not in lines[i+1] and '@' not in lines[i+1]:\n",
    "            w.write(lines[i][:-1])\n",
    "        elif '！' in lines[i][-2] or '？' in lines[i][-2] or '。' in lines[i][-2] or '…' in lines[i][-2]: #or '、'in lines[i][-2]:\n",
    "            w.write(lines[i])\n",
    "        else:\n",
    "            continue"
   ]
  },
  {
   "cell_type": "code",
   "execution_count": 140,
   "metadata": {},
   "outputs": [],
   "source": [
    "'''去除人物（空格）对话的例子'''\n",
    "with open('C:/Users/derri/Desktop/newdata/datanew7.txt','r', encoding=\"utf-8\") as r:\n",
    "    lines = r.readlines()\n",
    "with open('C:/Users/derri/Desktop/newdata/datanew8.txt','w', encoding=\"utf-8\") as w:\n",
    "    for i in range(len(lines)):\n",
    "        if '*' in lines[i] or '@'  in lines[i]:\n",
    "            w.write(lines[i])\n",
    "        elif '、　' in lines[i]:\n",
    "            w.write(lines[i])\n",
    "        elif '　' in lines[i][1:-2]:\n",
    "            continue\n",
    "        else:\n",
    "            w.write(lines[i])"
   ]
  },
  {
   "cell_type": "code",
   "execution_count": 141,
   "metadata": {},
   "outputs": [],
   "source": [
    "'''去除含括号的行'''\n",
    "with open('C:/Users/derri/Desktop/newdata/datanew8.txt','r', encoding=\"utf-8\") as r:\n",
    "    lines = r.readlines()\n",
    "with open('C:/Users/derri/Desktop/newdata/datanew9.txt','w', encoding=\"utf-8\") as w:\n",
    "    for i in range(len(lines)):\n",
    "        if \"「\" in lines[i] or \"」\" in lines[i] or \"『\" in lines[i] or \"』\" in lines[i]:\n",
    "            continue\n",
    "        else:\n",
    "            w.write(lines[i])"
   ]
  },
  {
   "cell_type": "code",
   "execution_count": null,
   "metadata": {},
   "outputs": [],
   "source": [
    "'''去除对话的描述句（と）\n",
    "with open('C:/Users/derri/Desktop/newdata/datanew8.txt','r', encoding=\"utf-8\") as r:\n",
    "    lines = r.readlines()\n",
    "#with open('C:/Users/derri/Desktop/newdata/datanew6.txt','w', encoding=\"utf-8\") as w:\n",
    "    for i in range(len(lines)):\n",
    "        if lines[i][1] == \"と\":\\\n",
    "            print(lines[i][:30])\n",
    "            #if lines[i][:4] == \"とにかく\" or lines[i][:4] == \"ところが\" or lines[i][:3] == \"とても\" or lines[i][:4] == \"ところで\" or lines[i][:2] == \"と同\":\n",
    "             #   w.write(lines[i])\n",
    "            #else:\n",
    "            #    continue\n",
    "        #else:\n",
    "         #   w.write(lines[i])'''"
   ]
  },
  {
   "cell_type": "code",
   "execution_count": 142,
   "metadata": {},
   "outputs": [],
   "source": [
    "'''回复上面6-7出现的@@在文中问题'''\n",
    "import re\n",
    "\n",
    "\n",
    "with open('C:/Users/derri/Desktop/newdata/datanew9.txt','r', encoding=\"utf-8\") as r:\n",
    "    lines = r.readlines()\n",
    "with open('C:/Users/derri/Desktop/newdata/datanew10.txt','w', encoding=\"utf-8\") as w:\n",
    "    for i in range(len(lines)):\n",
    "        line = re.sub('、@@', '。\\n@@', lines[i])\n",
    "        w.write(line)"
   ]
  },
  {
   "cell_type": "code",
   "execution_count": 153,
   "metadata": {},
   "outputs": [],
   "source": [
    "'''检测@@在不在文中'''\n",
    "with open('C:/Users/derri/Desktop/newdata/cleandataold2.txt','r', encoding=\"utf-8\") as r:\n",
    "    lines = r.readlines()\n",
    "    for i in range(len(lines)):\n",
    "        if '@@' in lines[i][1:-1]:\n",
    "            print(lines[i])"
   ]
  },
  {
   "cell_type": "code",
   "execution_count": 143,
   "metadata": {},
   "outputs": [],
   "source": [
    "'''去除年份'''\n",
    "with open('C:/Users/derri/Desktop/newdata/datanew10.txt','r', encoding=\"utf-8\") as r:\n",
    "    lines = r.readlines()\n",
    "with open('C:/Users/derri/Desktop/newdata/datanew11.txt','w', encoding=\"utf-8\") as w:\n",
    "    for i in range(len(lines)):\n",
    "        if '@@' in lines[i] and '年' in lines[i]:\n",
    "            continue\n",
    "        else:\n",
    "            w.write(lines[i])"
   ]
  },
  {
   "cell_type": "code",
   "execution_count": 144,
   "metadata": {},
   "outputs": [],
   "source": [
    "'''去除空白行'''\n",
    "with open('C:/Users/derri/Desktop/newdata/datanew11.txt','r', encoding=\"utf-8\") as r:\n",
    "    lines = r.readlines()\n",
    "with open('C:/Users/derri/Desktop/newdata/datanew12.txt','w', encoding=\"utf-8\") as w:\n",
    "    for i in range(len(lines)):\n",
    "        if lines[i][:2] == '　　':\n",
    "            continue\n",
    "        else:\n",
    "            w.write(lines[i])  \n",
    "            "
   ]
  },
  {
   "cell_type": "code",
   "execution_count": 149,
   "metadata": {},
   "outputs": [
    {
     "name": "stdout",
     "output_type": "stream",
     "text": [
      "****北越雪譜 02 北越雪譜叙\n",
      " ****北越雪譜 02 北越雪譜叙\n",
      "\n",
      "****北越雪譜 03 北越雪譜初編\n",
      " ****北越雪譜 03 北越雪譜初編\n",
      "\n",
      "****あちこちの渓谷\n",
      " ****あちこちの渓谷\n",
      "\n",
      "****行つて見たいところ\n",
      " ****行つて見たいところ\n",
      "\n",
      "****尾崎紅葉とその作品\n",
      " ****尾崎紅葉とその作品\n",
      "\n",
      "****閑談\n",
      " ****閑談\n",
      "\n",
      "****草みち 序\n",
      " ****草みち 序\n",
      "\n",
      "****三月の創作\n",
      " ****三月の創作\n",
      "\n",
      "****社会劇と印象派\n",
      " ****社会劇と印象派\n",
      "\n",
      "****真剣の強味\n",
      " ****真剣の強味\n",
      "\n",
      "****心理の縦断と横断\n",
      " ****心理の縦断と横断\n",
      "\n",
      "****スケツチ\n",
      " ****スケツチ\n",
      "\n",
      "****須磨子の死\n",
      " ****須磨子の死\n",
      "\n",
      "****脱却の工夫\n",
      " ****脱却の工夫\n",
      "\n",
      "****手品\n",
      " ****手品\n",
      "\n",
      "****半日の閑話\n",
      " ****半日の閑話\n",
      "\n",
      "****不思議な鳥\n",
      " ****不思議な鳥\n",
      "\n",
      "****私と外国文学\n",
      " ****私と外国文学\n",
      "\n",
      "****私の考へてゐる事\n",
      " ****私の考へてゐる事\n",
      "\n",
      "****余話 秘められた箱\n",
      " ****余話 秘められた箱\n",
      "\n"
     ]
    }
   ],
   "source": [
    "'''去除重复文章'''\n",
    "with open('C:/Users/derri/Desktop/newdata/datanew15.txt','r', encoding=\"utf-8\") as r:\n",
    "    lines = r.readlines()\n",
    "    a = []\n",
    "    c = []\n",
    "    for i in range(len(lines)):\n",
    "        if '****' in lines[i]:\n",
    "            a.append(lines[i])\n",
    "            c.append(i)\n",
    "    for j in range(len(a)):\n",
    "        for b in range(len(a)):\n",
    "            if a[j] == a[b] and j != b and j < b:\n",
    "                if lines[c[j]+1] == lines[c[b]+1]:\n",
    "                    print(a[j], a[b])"
   ]
  },
  {
   "cell_type": "code",
   "execution_count": 146,
   "metadata": {},
   "outputs": [],
   "source": [
    "'''去除空格'''\n",
    "import re\n",
    "\n",
    "\n",
    "with open('C:/Users/derri/Desktop/newdata/datanew12.txt','r', encoding=\"utf-8\") as r:\n",
    "    lines = r.readlines()\n",
    "with open('C:/Users/derri/Desktop/newdata/datanew13.txt','w', encoding=\"utf-8\") as w:\n",
    "    for i in lines:\n",
    "        j = re.sub(\"　\", \"\", i)\n",
    "        w.write(j)"
   ]
  },
  {
   "cell_type": "code",
   "execution_count": 147,
   "metadata": {},
   "outputs": [],
   "source": [
    "'''去除只有副标题不含文章的'''\n",
    "with open('C:/Users/derri/Desktop/newdata/datanew13.txt','r', encoding=\"utf-8\") as r:\n",
    "    lines = r.readlines()\n",
    "with open('C:/Users/derri/Desktop/newdata/datanew14.txt','w', encoding=\"utf-8\") as w:\n",
    "    for i in range(len(lines)-1):\n",
    "        if '@@' in lines[i] and '@@' in lines[i+1]:\n",
    "            continue\n",
    "        elif '@@' in lines[i] and '****' in lines[i+1]:\n",
    "            continue\n",
    "        else:\n",
    "            w.write(lines[i])\n",
    "    w.write(lines[-1])"
   ]
  },
  {
   "cell_type": "code",
   "execution_count": 148,
   "metadata": {},
   "outputs": [],
   "source": [
    "'''去除只有标题不含文章的'''\n",
    "with open('C:/Users/derri/Desktop/newdata/datanew14.txt','r', encoding=\"utf-8\") as r:\n",
    "    lines = r.readlines()\n",
    "with open('C:/Users/derri/Desktop/newdata/datanew15.txt','w', encoding=\"utf-8\") as w:\n",
    "    for i in range(len(lines)-1):\n",
    "        if '****' in lines[i] and '****' in lines[i+1]:\n",
    "            continue\n",
    "        else:\n",
    "            w.write(lines[i])\n",
    "    w.write(lines[-1])"
   ]
  },
  {
   "cell_type": "code",
   "execution_count": 132,
   "metadata": {},
   "outputs": [],
   "source": [
    "'''新kana里的旧kana修正'''\n",
    "import re\n",
    "\n",
    "\n",
    "with open('C:/Users/derri/Desktop/newdata/datanew15.txt','r', encoding=\"utf-8\") as r:\n",
    "    lines = r.readlines()\n",
    "with open('C:/Users/derri/Desktop/newdata/datanew16.txt','w', encoding=\"utf-8\") as w:\n",
    "    for i in range(len(lines)):\n",
    "        line = re.sub('ゐ', 'い', lines[i])\n",
    "        line = re.sub('ゑ', 'え', line)\n",
    "        w.write(line)"
   ]
  },
  {
   "cell_type": "code",
   "execution_count": null,
   "metadata": {},
   "outputs": [],
   "source": []
  }
 ],
 "metadata": {
  "kernelspec": {
   "display_name": "Python 3",
   "language": "python",
   "name": "python3"
  },
  "language_info": {
   "codemirror_mode": {
    "name": "ipython",
    "version": 3
   },
   "file_extension": ".py",
   "mimetype": "text/x-python",
   "name": "python",
   "nbconvert_exporter": "python",
   "pygments_lexer": "ipython3",
   "version": "3.7.4"
  }
 },
 "nbformat": 4,
 "nbformat_minor": 4
}
