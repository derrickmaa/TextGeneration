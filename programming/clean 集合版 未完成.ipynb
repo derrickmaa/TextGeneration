{
 "cells": [
  {
   "cell_type": "code",
   "execution_count": null,
   "metadata": {},
   "outputs": [],
   "source": [
    "import re\n",
    "\n",
    "\n",
    "def ruler1(a, b):\n",
    "'''去除不是段落的部分（诗歌等，开头不是空格或者标题）'''\n",
    "    with open(a,'r', encoding=\"utf-8\") as r:\n",
    "        lines = r.readlines()\n",
    "    with open(b,'w', encoding=\"utf-8\") as w:\n",
    "        for i in range(len(lines)):\n",
    "            if lines[i][0] == '　' or lines[i][0] == '*':\n",
    "                w.write(lines[i])\n",
    "            else:\n",
    "                continue\n",
    "\n",
    "def ruler2(b, c):\n",
    "'''去除一些符号'''\n",
    "    with open(b,'r', encoding=\"utf-8\") as r:\n",
    "        lines = r.readlines()\n",
    "    with open(c,'w', encoding=\"utf-8\") as w:\n",
    "        for i in lines:\n",
    "            j = re.sub(\"（.*?）\", \"\", i)\n",
    "            j = re.sub(\"／＼\", \"々々\", j)\n",
    "            j = re.sub(\"／″＼\", \"々々\", j)\n",
    "            j = re.sub(\"［.*?］\", \"\", j)\n",
    "            j = re.sub(\"○\", \"\", j)\n",
    "            j = re.sub('▲', \"\", j)\n",
    "            j = re.sub(\"〔.*?〕\",\"\", j)\n",
    "            j = re.sub(\"※\", \"\", j)\n",
    "            j = re.sub(\"ゝ\", \"々\", j)\n",
    "            w.write(j)\n",
    "\n",
    "def ruler3(c, d):\n",
    "    with open(c,'r', encoding=\"utf-8\") as r:\n",
    "        lines = r.readlines()\n",
    "    with open(d,'w', encoding=\"utf-8\") as w:\n",
    "        for i in range(len(lines)):\n",
    "            if \"×\" in lines[i] or \"◇\" in lines[i] or \"＊\" in lines[i] or \"〜〜〜\"  in lines[i] or '★' in lines[i]\n",
    "                    or \"「\" in lines[i] or \"」\" in lines[i] or \"『\" in lines[i] or \"』\" in lines[i]:\n",
    "                continue\n",
    "            else:\n",
    "                w.write(lines[i])"
   ]
  },
  {
   "cell_type": "code",
   "execution_count": null,
   "metadata": {},
   "outputs": [],
   "source": [
    "import re\n",
    "\n",
    "def ruler2(a, b):\n",
    "'''去除一些符号'''\n",
    "with open(a,'r', encoding=\"utf-8\") as r:\n",
    "    lines = r.readlines()\n",
    "with open(b,'w', encoding=\"utf-8\") as w:\n",
    "    for i in lines:\n",
    "        j = re.sub(\"（.*?）\", \"\", i)\n",
    "        j = re.sub(\"／＼\", \"々々\", j)\n",
    "        j = re.sub(\"／″＼\", \"々々\", j)\n",
    "        j = re.sub(\"［.*?］\", \"\", j)\n",
    "        j = re.sub(\"○\", \"\", j)\n",
    "        j = re.sub('▲', \"\", j)\n",
    "        j = re.sub(\"〔.*?〕\",\"\", j)\n",
    "        j = re.sub(\"※\", \"\", j)\n",
    "        j = re.sub(\"ゝ\", \"々\", j)\n",
    "        w.write(j)    "
   ]
  }
 ],
 "metadata": {
  "kernelspec": {
   "display_name": "Python 3",
   "language": "python",
   "name": "python3"
  },
  "language_info": {
   "codemirror_mode": {
    "name": "ipython",
    "version": 3
   },
   "file_extension": ".py",
   "mimetype": "text/x-python",
   "name": "python",
   "nbconvert_exporter": "python",
   "pygments_lexer": "ipython3",
   "version": "3.7.4"
  }
 },
 "nbformat": 4,
 "nbformat_minor": 4
}
