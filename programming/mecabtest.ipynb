{
 "cells": [
  {
   "cell_type": "code",
   "execution_count": 4,
   "metadata": {},
   "outputs": [
    {
     "name": "stdout",
     "output_type": "stream",
     "text": [
      " BOS/EOS,*,*,*,*,*,*,*,*\n",
      "岩野 名詞,固有名詞,人名,姓,*,*,岩野,イワノ,イワノ\n",
      "泡鳴 名詞,固有名詞,人名,名,*,*,泡鳴,ホウメイ,ホーメイ\n",
      "氏 名詞,接尾,人名,*,*,*,氏,シ,シ\n",
      " BOS/EOS,*,*,*,*,*,*,*,*\n"
     ]
    }
   ],
   "source": [
    "'''mecab测试'''\n",
    "import MeCab\n",
    "import chardet\n",
    "t = MeCab.Tagger()\n",
    "s = \"岩野泡鳴氏\"\n",
    "n = t.parseToNode(s)\n",
    "while n:\n",
    "    print(n.surface, n.feature)\n",
    "    n = n.next"
   ]
  }
 ],
 "metadata": {
  "kernelspec": {
   "display_name": "Python 3",
   "language": "python",
   "name": "python3"
  },
  "language_info": {
   "codemirror_mode": {
    "name": "ipython",
    "version": 3
   },
   "file_extension": ".py",
   "mimetype": "text/x-python",
   "name": "python",
   "nbconvert_exporter": "python",
   "pygments_lexer": "ipython3",
   "version": "3.7.4"
  }
 },
 "nbformat": 4,
 "nbformat_minor": 4
}
